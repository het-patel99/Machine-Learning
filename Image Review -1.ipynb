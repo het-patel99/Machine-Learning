{
 "cells": [
  {
   "cell_type": "markdown",
   "metadata": {},
   "source": [
    "# SATELLITE IMAGE REFINING FOR BUILDING DETECTION"
   ]
  },
  {
   "cell_type": "code",
   "execution_count": 1,
   "metadata": {},
   "outputs": [],
   "source": [
    "import cv2 as cv\n",
    "import numpy as np\n",
    "from matplotlib import pyplot as plt\n",
    "from collections import defaultdict"
   ]
  },
  {
   "cell_type": "markdown",
   "metadata": {},
   "source": [
    "## Image Smoothning by applying bilateral filter"
   ]
  },
  {
   "cell_type": "code",
   "execution_count": 2,
   "metadata": {},
   "outputs": [],
   "source": [
    "def show_image(img, label='image'):\n",
    "    cv.imshow(label, img)\n",
    "    cv.waitKey(0)\n",
    "\n",
    "\n",
    "def smooth(img, filter_type):\n",
    "    if filter_type == \"mean\":\n",
    "        return cv.blur(img, (5,5))\n",
    "    if filter_type == \"gaussian\":\n",
    "        return cv.GaussianBlur(img, (5,5), 0)\n",
    "    if filter_type == \"median\":\n",
    "        return cv.medianBlur(img, 5)\n",
    "    if filter_type == \"bilateral\":\n",
    "        return cv.bilateralFilter(img, 9, 75, 75)\n",
    "    return bilateral_filter"
   ]
  },
  {
   "cell_type": "markdown",
   "metadata": {},
   "source": [
    "## Finding the mode pixel of the image"
   ]
  },
  {
   "cell_type": "code",
   "execution_count": 3,
   "metadata": {},
   "outputs": [],
   "source": [
    "# return the mode pixel of the image\n",
    "def get_mode(img, xdim, ydim):\n",
    "    # split into color channels\n",
    "    [B,G,R] = cv.split(img)\n",
    "    blue = B.astype(float)\n",
    "    green = G.astype(float)\n",
    "    red = R.astype(float)\n",
    "      \n",
    "    # count the number of times each triple shows up\n",
    "    d = defaultdict(int)\n",
    "    for i in xrange(xdim):\n",
    "        for j in xrange(ydim):\n",
    "            d[(B[i,j], G[i,j], R[i,j])] += 1\n",
    "\n",
    "    # return the triple which shows up most often\n",
    "    maxval = 0\n",
    "    returnval = (0,0,0)\n",
    "    for k,v in d.items():\n",
    "        if v > maxval:\n",
    "            returnval = k\n",
    "            maxval = v\n",
    "    return returnval"
   ]
  },
  {
   "cell_type": "markdown",
   "metadata": {},
   "source": [
    "## Histogram Plot"
   ]
  },
  {
   "cell_type": "code",
   "execution_count": 4,
   "metadata": {},
   "outputs": [],
   "source": [
    "def plot_histogram(img):\n",
    "  color = ('b','g','r')\n",
    "  for i,col in enumerate(color):\n",
    "      histr = cv.calcHist([img],[i],None,[256],[0,256])\n",
    "      plt.plot(histr,color = col)\n",
    "      plt.xlim([0,256])\n",
    "  plt.show()"
   ]
  },
  {
   "cell_type": "markdown",
   "metadata": {},
   "source": [
    "## Detect Vegetation "
   ]
  },
  {
   "cell_type": "code",
   "execution_count": null,
   "metadata": {},
   "outputs": [],
   "source": []
  },
  {
   "cell_type": "markdown",
   "metadata": {},
   "source": [
    "## Image Segmentation"
   ]
  },
  {
   "cell_type": "code",
   "execution_count": null,
   "metadata": {},
   "outputs": [],
   "source": []
  },
  {
   "cell_type": "markdown",
   "metadata": {},
   "source": [
    "## Detect Polygon"
   ]
  },
  {
   "cell_type": "code",
   "execution_count": null,
   "metadata": {},
   "outputs": [],
   "source": []
  },
  {
   "cell_type": "markdown",
   "metadata": {},
   "source": [
    "## Main Function"
   ]
  },
  {
   "cell_type": "code",
   "execution_count": null,
   "metadata": {},
   "outputs": [],
   "source": []
  }
 ],
 "metadata": {
  "kernelspec": {
   "display_name": "Python 3",
   "language": "python",
   "name": "python3"
  },
  "language_info": {
   "codemirror_mode": {
    "name": "ipython",
    "version": 3
   },
   "file_extension": ".py",
   "mimetype": "text/x-python",
   "name": "python",
   "nbconvert_exporter": "python",
   "pygments_lexer": "ipython3",
   "version": "3.7.4"
  }
 },
 "nbformat": 4,
 "nbformat_minor": 2
}
